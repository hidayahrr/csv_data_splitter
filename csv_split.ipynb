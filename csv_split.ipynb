{
 "cells": [
  {
   "cell_type": "code",
   "execution_count": 39,
   "id": "edcbdae1-19ee-4b5e-9c93-7df60b356646",
   "metadata": {},
   "outputs": [],
   "source": [
    "import pandas as pd"
   ]
  },
  {
   "cell_type": "code",
   "execution_count": 41,
   "id": "0c727fa8-cd48-4f9d-b7b2-2214505a43d8",
   "metadata": {},
   "outputs": [],
   "source": [
    "# Load the original CSV\n",
    "df = pd.read_csv('your_file_path_here.csv')"
   ]
  },
  {
   "cell_type": "code",
   "execution_count": 43,
   "id": "c22ce4a6-d15d-4d05-b514-caa37e10422d",
   "metadata": {},
   "outputs": [
    {
     "data": {
      "text/html": [
       "<div>\n",
       "<style scoped>\n",
       "    .dataframe tbody tr th:only-of-type {\n",
       "        vertical-align: middle;\n",
       "    }\n",
       "\n",
       "    .dataframe tbody tr th {\n",
       "        vertical-align: top;\n",
       "    }\n",
       "\n",
       "    .dataframe thead th {\n",
       "        text-align: right;\n",
       "    }\n",
       "</style>\n",
       "<table border=\"1\" class=\"dataframe\">\n",
       "  <thead>\n",
       "    <tr style=\"text-align: right;\">\n",
       "      <th></th>\n",
       "      <th>country_name</th>\n",
       "      <th>currency</th>\n",
       "      <th>employer_id</th>\n",
       "      <th>reimbursement_notice_id</th>\n",
       "      <th>payout_id</th>\n",
       "      <th>disbursed_at</th>\n",
       "      <th>user_id</th>\n",
       "      <th>ewa_amount</th>\n",
       "      <th>membership_fee</th>\n",
       "      <th>membership_fee_disc</th>\n",
       "      <th>...</th>\n",
       "      <th>late_fee_usd</th>\n",
       "      <th>write_off_usd</th>\n",
       "      <th>repayment_timeline</th>\n",
       "      <th>recycle_count</th>\n",
       "      <th>net_outstanding_exclude_membership</th>\n",
       "      <th>net_outstanding_include_membership</th>\n",
       "      <th>net_outstanding_usd_include_membership</th>\n",
       "      <th>repayment_amount</th>\n",
       "      <th>monthly_exchange_rate_xero</th>\n",
       "      <th>write_off_late_fees</th>\n",
       "    </tr>\n",
       "  </thead>\n",
       "  <tbody>\n",
       "    <tr>\n",
       "      <th>0</th>\n",
       "      <td>Indonesia</td>\n",
       "      <td>IDR</td>\n",
       "      <td>4</td>\n",
       "      <td>4.17.21082020</td>\n",
       "      <td>651</td>\n",
       "      <td>2020-08-16</td>\n",
       "      <td>1051.0</td>\n",
       "      <td>335000.0</td>\n",
       "      <td>35000.0</td>\n",
       "      <td>0.0</td>\n",
       "      <td>...</td>\n",
       "      <td>0.353176</td>\n",
       "      <td>0.0</td>\n",
       "      <td>12.0</td>\n",
       "      <td>12.0</td>\n",
       "      <td>0.0</td>\n",
       "      <td>0.0</td>\n",
       "      <td>0.000000</td>\n",
       "      <td>NaN</td>\n",
       "      <td>16547.0</td>\n",
       "      <td>0.0</td>\n",
       "    </tr>\n",
       "    <tr>\n",
       "      <th>1</th>\n",
       "      <td>Indonesia</td>\n",
       "      <td>IDR</td>\n",
       "      <td>4</td>\n",
       "      <td>4.3295.15022023</td>\n",
       "      <td>346312</td>\n",
       "      <td>2023-01-23</td>\n",
       "      <td>1051.0</td>\n",
       "      <td>1000000.0</td>\n",
       "      <td>30000.0</td>\n",
       "      <td>0.0</td>\n",
       "      <td>...</td>\n",
       "      <td>NaN</td>\n",
       "      <td>0.0</td>\n",
       "      <td>32.0</td>\n",
       "      <td>11.0</td>\n",
       "      <td>0.0</td>\n",
       "      <td>0.0</td>\n",
       "      <td>0.000000</td>\n",
       "      <td>NaN</td>\n",
       "      <td>16547.0</td>\n",
       "      <td>0.0</td>\n",
       "    </tr>\n",
       "    <tr>\n",
       "      <th>2</th>\n",
       "      <td>Indonesia</td>\n",
       "      <td>IDR</td>\n",
       "      <td>4</td>\n",
       "      <td>4.5320.15092023</td>\n",
       "      <td>799737</td>\n",
       "      <td>2023-09-08</td>\n",
       "      <td>1051.0</td>\n",
       "      <td>500000.0</td>\n",
       "      <td>25000.0</td>\n",
       "      <td>0.0</td>\n",
       "      <td>...</td>\n",
       "      <td>NaN</td>\n",
       "      <td>0.0</td>\n",
       "      <td>17.0</td>\n",
       "      <td>12.0</td>\n",
       "      <td>0.0</td>\n",
       "      <td>0.0</td>\n",
       "      <td>0.000000</td>\n",
       "      <td>NaN</td>\n",
       "      <td>16547.0</td>\n",
       "      <td>0.0</td>\n",
       "    </tr>\n",
       "    <tr>\n",
       "      <th>3</th>\n",
       "      <td>Indonesia</td>\n",
       "      <td>IDR</td>\n",
       "      <td>4</td>\n",
       "      <td>4.8358.15052024</td>\n",
       "      <td>1440838</td>\n",
       "      <td>2024-04-23</td>\n",
       "      <td>1051.0</td>\n",
       "      <td>770000.0</td>\n",
       "      <td>25000.0</td>\n",
       "      <td>0.0</td>\n",
       "      <td>...</td>\n",
       "      <td>NaN</td>\n",
       "      <td>0.0</td>\n",
       "      <td>29.0</td>\n",
       "      <td>12.0</td>\n",
       "      <td>0.0</td>\n",
       "      <td>0.0</td>\n",
       "      <td>0.000000</td>\n",
       "      <td>NaN</td>\n",
       "      <td>16547.0</td>\n",
       "      <td>0.0</td>\n",
       "    </tr>\n",
       "    <tr>\n",
       "      <th>4</th>\n",
       "      <td>Indonesia</td>\n",
       "      <td>IDR</td>\n",
       "      <td>4</td>\n",
       "      <td>4.13509.15032025</td>\n",
       "      <td>2707554</td>\n",
       "      <td>2025-02-20</td>\n",
       "      <td>1051.0</td>\n",
       "      <td>960000.0</td>\n",
       "      <td>25000.0</td>\n",
       "      <td>0.0</td>\n",
       "      <td>...</td>\n",
       "      <td>NaN</td>\n",
       "      <td>0.0</td>\n",
       "      <td>NaN</td>\n",
       "      <td>NaN</td>\n",
       "      <td>960000.0</td>\n",
       "      <td>990000.0</td>\n",
       "      <td>59.829576</td>\n",
       "      <td>NaN</td>\n",
       "      <td>16547.0</td>\n",
       "      <td>0.0</td>\n",
       "    </tr>\n",
       "  </tbody>\n",
       "</table>\n",
       "<p>5 rows × 52 columns</p>\n",
       "</div>"
      ],
      "text/plain": [
       "  country_name currency  employer_id reimbursement_notice_id  payout_id  \\\n",
       "0    Indonesia      IDR            4           4.17.21082020        651   \n",
       "1    Indonesia      IDR            4         4.3295.15022023     346312   \n",
       "2    Indonesia      IDR            4         4.5320.15092023     799737   \n",
       "3    Indonesia      IDR            4         4.8358.15052024    1440838   \n",
       "4    Indonesia      IDR            4        4.13509.15032025    2707554   \n",
       "\n",
       "  disbursed_at  user_id  ewa_amount  membership_fee  membership_fee_disc  ...  \\\n",
       "0   2020-08-16   1051.0    335000.0         35000.0                  0.0  ...   \n",
       "1   2023-01-23   1051.0   1000000.0         30000.0                  0.0  ...   \n",
       "2   2023-09-08   1051.0    500000.0         25000.0                  0.0  ...   \n",
       "3   2024-04-23   1051.0    770000.0         25000.0                  0.0  ...   \n",
       "4   2025-02-20   1051.0    960000.0         25000.0                  0.0  ...   \n",
       "\n",
       "   late_fee_usd  write_off_usd  repayment_timeline recycle_count  \\\n",
       "0      0.353176            0.0                12.0          12.0   \n",
       "1           NaN            0.0                32.0          11.0   \n",
       "2           NaN            0.0                17.0          12.0   \n",
       "3           NaN            0.0                29.0          12.0   \n",
       "4           NaN            0.0                 NaN           NaN   \n",
       "\n",
       "  net_outstanding_exclude_membership net_outstanding_include_membership  \\\n",
       "0                                0.0                                0.0   \n",
       "1                                0.0                                0.0   \n",
       "2                                0.0                                0.0   \n",
       "3                                0.0                                0.0   \n",
       "4                           960000.0                           990000.0   \n",
       "\n",
       "   net_outstanding_usd_include_membership  repayment_amount  \\\n",
       "0                                0.000000               NaN   \n",
       "1                                0.000000               NaN   \n",
       "2                                0.000000               NaN   \n",
       "3                                0.000000               NaN   \n",
       "4                               59.829576               NaN   \n",
       "\n",
       "   monthly_exchange_rate_xero  write_off_late_fees  \n",
       "0                     16547.0                  0.0  \n",
       "1                     16547.0                  0.0  \n",
       "2                     16547.0                  0.0  \n",
       "3                     16547.0                  0.0  \n",
       "4                     16547.0                  0.0  \n",
       "\n",
       "[5 rows x 52 columns]"
      ]
     },
     "execution_count": 43,
     "metadata": {},
     "output_type": "execute_result"
    }
   ],
   "source": [
    "df.head()"
   ]
  },
  {
   "cell_type": "code",
   "execution_count": 45,
   "id": "69271b55-8f60-4c94-92f5-948adc5244dd",
   "metadata": {},
   "outputs": [],
   "source": [
    "# Calculate the midpoint\n",
    "split_1 = len(df) // 3\n",
    "split_2 = 2 * (len(df) // 3)"
   ]
  },
  {
   "cell_type": "code",
   "execution_count": 47,
   "id": "79331969-d319-414a-8e5d-afeb3df4581d",
   "metadata": {},
   "outputs": [],
   "source": [
    "df_part1 = df.iloc[:split_1]\n",
    "df_part2 = df.iloc[split_1:split_2]\n",
    "df_part3 = df.iloc[split_2:]"
   ]
  },
  {
   "cell_type": "code",
   "execution_count": 49,
   "id": "752dc0d3-9e5f-4acf-96e7-1283f9dcc057",
   "metadata": {},
   "outputs": [
    {
     "name": "stdout",
     "output_type": "stream",
     "text": [
      "CSV split into three files successfully!\n"
     ]
    }
   ],
   "source": [
    "# Save the two parts into separate CSV files\n",
    "df_part1.to_csv('output_part1.csv', index=False)\n",
    "df_part2.to_csv('output_part2.csv', index=False)\n",
    "df_part3.to_csv('output_part3.csv', index=False)\n",
    "\n",
    "print(\"CSV split into three files successfully!\")"
   ]
  },
  {
   "cell_type": "code",
   "execution_count": 51,
   "id": "a2fd8d62-22f8-422a-8b59-b7950735011d",
   "metadata": {},
   "outputs": [
    {
     "data": {
      "text/html": [
       "<a href='output_part1.csv' target='_blank'>output_part1.csv</a><br>"
      ],
      "text/plain": [
       "/Users/wagely/Downloads/Work Related Doc/Projects/Pribadi/jupyter scripts/output_part1.csv"
      ]
     },
     "metadata": {},
     "output_type": "display_data"
    },
    {
     "data": {
      "text/html": [
       "<a href='output_part2.csv' target='_blank'>output_part2.csv</a><br>"
      ],
      "text/plain": [
       "/Users/wagely/Downloads/Work Related Doc/Projects/Pribadi/jupyter scripts/output_part2.csv"
      ]
     },
     "metadata": {},
     "output_type": "display_data"
    },
    {
     "data": {
      "text/html": [
       "<a href='output_part3.csv' target='_blank'>output_part3.csv</a><br>"
      ],
      "text/plain": [
       "/Users/wagely/Downloads/Work Related Doc/Projects/Pribadi/jupyter scripts/output_part3.csv"
      ]
     },
     "metadata": {},
     "output_type": "display_data"
    }
   ],
   "source": [
    "from IPython.display import FileLink, display\n",
    "display(FileLink('output_part1.csv'))\n",
    "display(FileLink('output_part2.csv'))\n",
    "display(FileLink('output_part3.csv'))"
   ]
  }
 ],
 "metadata": {
  "kernelspec": {
   "display_name": "Python 3 (ipykernel)",
   "language": "python",
   "name": "python3"
  },
  "language_info": {
   "codemirror_mode": {
    "name": "ipython",
    "version": 3
   },
   "file_extension": ".py",
   "mimetype": "text/x-python",
   "name": "python",
   "nbconvert_exporter": "python",
   "pygments_lexer": "ipython3",
   "version": "3.12.4"
  }
 },
 "nbformat": 4,
 "nbformat_minor": 5
}
